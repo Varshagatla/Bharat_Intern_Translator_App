{
 "cells": [
  {
   "cell_type": "markdown",
   "id": "13fdbedc",
   "metadata": {},
   "source": [
    "## Importing the Libraries"
   ]
  },
  {
   "cell_type": "code",
   "execution_count": 1,
   "id": "a9443b3e",
   "metadata": {},
   "outputs": [],
   "source": [
    "from googletrans import Translator"
   ]
  },
  {
   "cell_type": "markdown",
   "id": "8f35ef37",
   "metadata": {},
   "source": [
    "## Create an instance of the translator"
   ]
  },
  {
   "cell_type": "code",
   "execution_count": 2,
   "id": "e6c0ba38",
   "metadata": {},
   "outputs": [],
   "source": [
    "translator = Translator()"
   ]
  },
  {
   "cell_type": "markdown",
   "id": "adc32b1c",
   "metadata": {},
   "source": [
    "## Ask the user for the input text and target language"
   ]
  },
  {
   "cell_type": "code",
   "execution_count": 4,
   "id": "4a4bfe1e",
   "metadata": {},
   "outputs": [
    {
     "name": "stdout",
     "output_type": "stream",
     "text": [
      "Enter the text to be translated: Varsha\n",
      "Enter the target language: Hindi\n"
     ]
    }
   ],
   "source": [
    "input_text = input(\"Enter the text to be translated: \")\n",
    "target_language = input(\"Enter the target language: \")"
   ]
  },
  {
   "cell_type": "markdown",
   "id": "69a9aeda",
   "metadata": {},
   "source": [
    "## Translate the input text to the target language"
   ]
  },
  {
   "cell_type": "code",
   "execution_count": 5,
   "id": "e1cd4617",
   "metadata": {},
   "outputs": [],
   "source": [
    "translated_text = translator.translate(input_text, dest=target_language)"
   ]
  },
  {
   "cell_type": "markdown",
   "id": "15658431",
   "metadata": {},
   "source": [
    "## Print the translated text"
   ]
  },
  {
   "cell_type": "code",
   "execution_count": 6,
   "id": "e018a1f1",
   "metadata": {},
   "outputs": [
    {
     "name": "stdout",
     "output_type": "stream",
     "text": [
      "Translated text:  वर्षा\n"
     ]
    }
   ],
   "source": [
    "print(\"Translated text: \", translated_text.text)"
   ]
  },
  {
   "cell_type": "code",
   "execution_count": null,
   "id": "322a7e29",
   "metadata": {},
   "outputs": [],
   "source": []
  }
 ],
 "metadata": {
  "kernelspec": {
   "display_name": "Python 3 (ipykernel)",
   "language": "python",
   "name": "python3"
  },
  "language_info": {
   "codemirror_mode": {
    "name": "ipython",
    "version": 3
   },
   "file_extension": ".py",
   "mimetype": "text/x-python",
   "name": "python",
   "nbconvert_exporter": "python",
   "pygments_lexer": "ipython3",
   "version": "3.10.11"
  }
 },
 "nbformat": 4,
 "nbformat_minor": 5
}
